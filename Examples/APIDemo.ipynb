{
 "cells": [
  {
   "cell_type": "code",
   "execution_count": 1,
   "metadata": {
    "collapsed": false
   },
   "outputs": [],
   "source": [
    "__author__ = 'stephanie'\n",
    "\n",
    "#Demo Created and run against little bear river demo database. scripts are located at \n",
    "#https://github.com/ODM2/ODM2/tree/master/usecases/littlebearriver/sampledatabases\n",
    "\n",
    "import matplotlib.pyplot as plt\n",
    "from matplotlib import dates\n",
    "%matplotlib inline\n",
    "\n",
    "from odm2api.ODMconnection import dbconnection\n",
    "from odm2api.ODM2.services.readService import *\n",
    "\n",
    "\n",
    "# Create a connection to the ODM2 database\n",
    "# ----------------------------------------\n",
    "\n",
    "#createconnection (dbtype, servername, dbname, username, password)\n",
    "session_factory = dbconnection.createConnection('mysql', 'localhost', 'ODM2', 'ODM', 'odm')#mysql\n",
    "#session_factory = dbconnection.createConnection('connection type: sqlite|mysql|mssql|postgresql', '/your/path/to/db/goes/here', 2.0)#sqlite\n",
    "# session_factory= dbconnection.createConnection('mssql', \"(local)\", \"LBRODM2\", \"ODM\", \"odm\")#win MSSQL\n",
    "# session_factory= dbconnection.createConnection('mssql', \"odm2\", \"\", \"ODM\", \"odm\")#mac/linux MSSQL\n"
   ]
  },
  {
   "cell_type": "code",
   "execution_count": 3,
   "metadata": {
    "collapsed": false
   },
   "outputs": [],
   "source": [
    "_session = session_factory.getSession()\n",
    "\n",
    "read = ReadODM2(session_factory)\n"
   ]
  },
  {
   "cell_type": "code",
   "execution_count": 4,
   "metadata": {
    "collapsed": false
   },
   "outputs": [],
   "source": [
    "# dir (read)"
   ]
  },
  {
   "cell_type": "code",
   "execution_count": 5,
   "metadata": {
    "collapsed": false
   },
   "outputs": [
    {
     "name": "stdout",
     "output_type": "stream",
     "text": [
      "USU3: Battery voltage\n",
      "USU4: Turbidity\n",
      "USU5: Turbidity\n",
      "USU6: Turbidity\n",
      "USU7: Turbidity\n",
      "USU8: Turbidity\n",
      "USU9: Turbidity\n",
      "USU10: Temperature\n",
      "USU13: Gage height\n",
      "USU14: Temperature\n",
      "USU15: Relative humidity\n",
      "USU16: Precipitation\n",
      "USU17: Battery voltage\n",
      "USU18: Wind speed\n",
      "USU19: Wind direction\n",
      "USU20: Wind direction\n",
      "USU21: Barometric pressure\n",
      "USU22: Radiation, incoming shortwave\n",
      "USU23: Battery voltage\n",
      "USU24: Wind speed\n",
      "USU25: Temperature\n",
      "USU26: Temperature\n",
      "USU27: Temperature\n",
      "USU28: Relative humidity\n",
      "USU29: Barometric pressure\n",
      "USU30: Precipitation\n",
      "USU31: Radiation, incoming shortwave\n",
      "USU32: Oxygen, dissolved\n",
      "USU33: Oxygen, dissolved percent of saturation\n",
      "USU34: Specific conductance\n",
      "USU35: pH\n",
      "USU36: Temperature\n",
      "USU37: Turbidity\n",
      "USU39: Phosphorus, total\n",
      "USU40: Phosphorus, total dissolved\n",
      "USU41: Solids, total Suspended\n",
      "USU44: Discharge\n",
      "USU47: Solids, total suspended\n",
      "USU48: Phosphorus, total\n",
      "USU49: Distance\n",
      "USU50: Snow Depth\n",
      "USU51: Distance\n",
      "USU52: Distance\n",
      "USU53: Distance\n",
      "USU54: Snow Depth\n",
      "USU55: Snow Depth\n",
      "USU56: Snow Depth\n",
      "USU57: Volumetric water content\n",
      "USU58: Electrical conductivity\n",
      "USU59: Temperature\n",
      "USU60: Temperature\n",
      "USU61: Real dielectric constant\n",
      "USU62: Imaginary dielectric constant\n",
      "USU63: Alkalinity, carbonate plus bicarbonate\n",
      "USU64: Nitrogen, total dissolved\n",
      "USU65: Nitrogen, total\n"
     ]
    }
   ],
   "source": [
    "# Run some basic sample queries.\n",
    "# ------------------------------\n",
    "# Get all of the variables from the database and print their names to the console\n",
    "allVars = read.getVariables()\n",
    "\n",
    "for x in allVars:\n",
    "    print x.VariableCode + \": \" + x.VariableNameCV\n"
   ]
  },
  {
   "cell_type": "code",
   "execution_count": 6,
   "metadata": {
    "collapsed": false
   },
   "outputs": [
    {
     "name": "stdout",
     "output_type": "stream",
     "text": [
      "Jeff Horsburgh\n",
      "Nancy Mesner\n",
      "Amber Spackman\n",
      "\n",
      "-------- Information about an Affiliation ---------\n",
      "Jeff: 1\n",
      "Jeff: 2\n",
      "Amber: 3\n",
      "Nancy: 4\n",
      "Amber: 6\n"
     ]
    }
   ],
   "source": [
    "\n",
    "# Get all of the people from the database\n",
    "allPeople = read.getPeople()\n",
    "\n",
    "for x in allPeople:\n",
    "    print x.PersonFirstName + \" \" + x.PersonLastName\n",
    "\n",
    "try:\n",
    "    print \"\\n-------- Information about an Affiliation ---------\"\n",
    "    allaff = read.getAllAffiliations()\n",
    "    for x in allaff:\n",
    "        print x.PersonObj.PersonFirstName + \": \" + str(x.OrganizationID)\n",
    "except Exception as e:\n",
    "    print \"Unable to demo getAllAffiliations\", e\n",
    "\n"
   ]
  },
  {
   "cell_type": "code",
   "execution_count": 7,
   "metadata": {
    "collapsed": false
   },
   "outputs": [
    {
     "name": "stdout",
     "output_type": "stream",
     "text": [
      "\n",
      "-------- Information about an SamplingFeature of type 'Site'---------\n",
      "USU-LBR-Mendon: Little Bear River at Mendon Road near Mendon, Utah\n",
      "USU-LBR-SFWeather: Little Bear River South Fork Weather Station near Avon, Utah\n",
      "\n",
      "-------- Information about an individual SamplingFeature ---------\n",
      "The following are some of the attributes of a SamplingFeature retrieved using getSamplingFeatureByCode(): \n",
      "\n",
      "SamplingFeatureCode: USU-LBR-Mendon\n",
      "SamplingFeatureName: Little Bear River at Mendon Road near Mendon, Utah\n",
      "SamplingFeatureDescription: Located below county road bridge at Mendon Road crossing\n",
      "SamplingFeatureGeotypeCV: Point\n",
      "SamplingFeatureGeometry: \u0000\u0000\u0000\u0000\u0001\u0001\u0000\u0000\u0000·±Ùü[À\u0007[ìöÛD@\n",
      "Elevation_m: 1345.0\n"
     ]
    }
   ],
   "source": [
    "# Get all of the SamplingFeatures from the database that are Sites\n",
    "\n",
    "try:\n",
    "    siteFeatures = read.getSamplingFeaturesByType('Site')\n",
    "    numSites = len(siteFeatures)\n",
    "    print \"\\n-------- Information about an SamplingFeature of type 'Site'---------\"\n",
    "    for x in siteFeatures:\n",
    "        print x.SamplingFeatureCode + \": \" + x.SamplingFeatureName\n",
    "except Exception as e:\n",
    "    print \"Unable to demo getSamplingFeaturesByType\", e\n",
    "\n",
    "\n",
    "# Now get the SamplingFeature object for a SamplingFeature code\n",
    "try:\n",
    "    sf = read.getSamplingFeatureByCode('USU-LBR-Mendon')\n",
    "    \n",
    "    print \"\\n-------- Information about an individual SamplingFeature ---------\"\n",
    "    print \"The following are some of the attributes of a SamplingFeature retrieved using getSamplingFeatureByCode(): \\n\"\n",
    "    print \"SamplingFeatureCode: \" + sf.SamplingFeatureCode\n",
    "    print \"SamplingFeatureName: \" + sf.SamplingFeatureName\n",
    "    print \"SamplingFeatureDescription: %s\" % sf.SamplingFeatureDescription\n",
    "    print \"SamplingFeatureGeotypeCV: %s\" % sf.SamplingFeatureGeotypeCV\n",
    "    print \"SamplingFeatureGeometry: %s\" % sf.FeatureGeometry\n",
    "    print \"Elevation_m: %s\" % str(sf.Elevation_m)\n",
    "except Exception as e:\n",
    "    print \"Unable to demo getSamplingFeatureByCode: \", e\n",
    "\n",
    "\n",
    "\n"
   ]
  },
  {
   "cell_type": "code",
   "execution_count": 8,
   "metadata": {
    "collapsed": false
   },
   "outputs": [
    {
     "name": "stdout",
     "output_type": "stream",
     "text": [
      "\n",
      "------------ Create Sampling Feature --------- \n",
      "new sampling feature added to database error adding a sampling feature: 'str' object has no attribute 'geom_wkb'\n"
     ]
    }
   ],
   "source": [
    "#add sampling feature\n",
    "print \"\\n------------ Create Sampling Feature --------- \\n\",\n",
    "try:\n",
    "    from odm2api.ODM2.models import SamplingFeatures\n",
    "    newsf = SamplingFeatures()\n",
    "    session = session_factory.getSession()\n",
    "    newsf.FeatureGeometry = \"POINT(-111.946 41.718)\"\n",
    "    newsf.Elevation_m=100\n",
    "    newsf.ElevationDatumCV=sf.ElevationDatumCV\n",
    "    newsf.SamplingFeatureCode= \"TestSF\"\n",
    "    newsf.SamplingFeatureDescription = \"this is a test to add Feature Geomotry\"\n",
    "    newsf.SamplingFeatureGeotypeCV= \"Point\"\n",
    "    newsf.SamplingFeatureTypeCV=sf.SamplingFeatureTypeCV\n",
    "    newsf.SamplingFeatureUUID= sf.SamplingFeatureUUID+\"2\"\n",
    "    session.add(newsf)\n",
    "    #session.commit()\n",
    "    print \"new sampling feature added to database\", newsf\n",
    "\n",
    "except Exception as e :\n",
    "    print \"error adding a sampling feature: \" + str(e)"
   ]
  },
  {
   "cell_type": "code",
   "execution_count": 9,
   "metadata": {
    "collapsed": false
   },
   "outputs": [
    {
     "name": "stdout",
     "output_type": "stream",
     "text": [
      "\n",
      "------------ Foreign Key Example --------- \n",
      "The FeatureAction object for the Result is:  <FeatureActions('1', '1', '1', )>\n",
      "The Action object for the Result is:  <Actions('1', 'Observation', '2007-09-01 00:00:00', 'Sensor deployment and \r\n",
      "\tobservation. This is a generic Observation Action created for a Time Series \r\n",
      "\tResult loaded into ODM2\tfrom an ODM 1.1.1 database.')>\n",
      "\n",
      "The following are some of the attributes for the Action that created the Result: \n",
      "ActionTypeCV: Observation\n",
      "ActionDescription: Sensor deployment and \r\n",
      "\tobservation. This is a generic Observation Action created for a Time Series \r\n",
      "\tResult loaded into ODM2\tfrom an ODM 1.1.1 database.\n",
      "BeginDateTime: 2007-09-01 00:00:00\n",
      "EndDateTime: 2007-09-30 23:30:00\n",
      "MethodName: Battery voltage measured by Campbell Scientific CR206 datalogger.\n",
      "MethodDescription: Battery voltage measured by Campbell Scientific CR206 datalogger.\n"
     ]
    }
   ],
   "source": [
    "\n",
    "# Drill down and get objects linked by foreign keys\n",
    "print \"\\n------------ Foreign Key Example --------- \\n\",\n",
    "try:\n",
    "    # Call getResults, but return only the first result\n",
    "    firstResult = read.getResults()[0]\n",
    "    print \"The FeatureAction object for the Result is: \", firstResult.FeatureActionObj\n",
    "    print \"The Action object for the Result is: \", firstResult.FeatureActionObj.ActionObj\n",
    "    print (\"\\nThe following are some of the attributes for the Action that created the Result: \\n\" +\n",
    "           \"ActionTypeCV: \" + firstResult.FeatureActionObj.ActionObj.ActionTypeCV + \"\\n\" +\n",
    "           \"ActionDescription: \" + firstResult.FeatureActionObj.ActionObj.ActionDescription + \"\\n\" +\n",
    "           \"BeginDateTime: \" + str(firstResult.FeatureActionObj.ActionObj.BeginDateTime) + \"\\n\" +\n",
    "           \"EndDateTime: \" + str(firstResult.FeatureActionObj.ActionObj.EndDateTime) + \"\\n\" +\n",
    "           \"MethodName: \" + firstResult.FeatureActionObj.ActionObj.MethodObj.MethodName + \"\\n\" +\n",
    "           \"MethodDescription: \" + firstResult.FeatureActionObj.ActionObj.MethodObj.MethodDescription)\n",
    "except Exception as e:\n",
    "    print \"Unable to demo Foreign Key Example: \", e\n",
    "\n",
    "\n",
    "\n"
   ]
  },
  {
   "cell_type": "code",
   "execution_count": 10,
   "metadata": {
    "collapsed": false
   },
   "outputs": [
    {
     "name": "stdout",
     "output_type": "stream",
     "text": [
      "\n",
      "------- Example of Retrieving Attributes of a Time Series Result -------\n",
      "The following are some of the attributes for the TimeSeriesResult retrieved using getTimeSeriesResultByResultID(): \n",
      "ResultTypeCV: Time series coverage\n",
      "ProcessingLevel: Raw data\n",
      "SampledMedium: Not applicable\n",
      "Variable: USU3: Battery voltage\n",
      "AggregationStatistic: Minimum\n",
      "Elevation_m: 1345.0\n",
      "SamplingFeature: USU-LBR-Mendon - Little Bear River at Mendon Road near Mendon, Utah\n"
     ]
    }
   ],
   "source": [
    "# Now get a particular Result using a ResultID\n",
    "print \"\\n------- Example of Retrieving Attributes of a Time Series Result -------\"\n",
    "try:\n",
    "    tsResult = read.getTimeSeriesResultByResultId(1)\n",
    "    print (\n",
    "        \"The following are some of the attributes for the TimeSeriesResult retrieved using getTimeSeriesResultByResultID(): \\n\" +\n",
    "        \"ResultTypeCV: \" + tsResult.ResultObj.ResultTypeCV + \"\\n\" +\n",
    "        # Get the ProcessingLevel from the TimeSeriesResult's ProcessingLevel object\n",
    "        \"ProcessingLevel: \" + tsResult.ResultObj.ProcessingLevelObj.Definition + \"\\n\" +\n",
    "        \"SampledMedium: \" + tsResult.ResultObj.SampledMediumCV + \"\\n\" +\n",
    "        # Get the variable information from the TimeSeriesResult's Variable object\n",
    "        \"Variable: \" + tsResult.ResultObj.VariableObj.VariableCode + \": \" + tsResult.ResultObj.VariableObj.VariableNameCV + \"\\n\"\n",
    "                                                                                                        \"AggregationStatistic: \" + tsResult.AggregationStatisticCV + \"\\n\" +\n",
    "        \"Elevation_m: \" + str(sf.Elevation_m) + \"\\n\" +\n",
    "        # Get the site information by drilling down\n",
    "        \"SamplingFeature: \" + tsResult.ResultObj.FeatureActionObj.SamplingFeatureObj.SamplingFeatureCode + \" - \" +\n",
    "        tsResult.ResultObj.FeatureActionObj.SamplingFeatureObj.SamplingFeatureName)\n",
    "except Exception as e:\n",
    "    print \"Unable to demo Example of retrieving Attributes of a time Series Result: \", e"
   ]
  },
  {
   "cell_type": "code",
   "execution_count": 11,
   "metadata": {
    "collapsed": false
   },
   "outputs": [
    {
     "name": "stdout",
     "output_type": "stream",
     "text": [
      "\n",
      "-------- Example of Retrieving Time Series Result Values ---------\n",
      "<class 'odm2api.ODM2.models.TimeSeriesResultValues'> <TimeSeriesResultValues('11.71689', '2007-09-30 04:30:00', '30.0')>\n",
      "   ValueID  ResultID  DataValue       ValueDateTime  ValueDateTimeUTCOffset  \\\n",
      "0  1947519         1   11.71689 2007-09-30 04:30:00                      -7   \n",
      "1  1948350         1   11.73368 2007-09-30 02:30:00                      -7   \n",
      "2  1952427         1   11.79663 2007-09-29 22:30:00                      -7   \n",
      "3  1955496         1   11.83189 2007-09-29 19:00:00                      -7   \n",
      "4  1957822         1   11.86547 2007-09-29 16:30:00                      -7   \n",
      "\n",
      "   CensorCodeCV QualityCodeCV  TimeAggregationInterval  \\\n",
      "0  Not censored       Unknown                     30.0   \n",
      "1  Not censored       Unknown                     30.0   \n",
      "2  Not censored       Unknown                     30.0   \n",
      "3  Not censored       Unknown                     30.0   \n",
      "4  Not censored       Unknown                     30.0   \n",
      "\n",
      "   TimeAggregationIntervalUnitsID  \n",
      "0                             102  \n",
      "1                             102  \n",
      "2                             102  \n",
      "3                             102  \n",
      "4                             102  \n"
     ]
    },
    {
     "data": {
      "image/png": "[encoded data removed]",
      "text/plain": [
       "<matplotlib.figure.Figure at 0x10e048050>"
      ]
     },
     "metadata": {},
     "output_type": "display_data"
    }
   ],
   "source": [
    "# Get the values for a particular TimeSeriesResult\n",
    "print \"\\n-------- Example of Retrieving Time Series Result Values ---------\"\n",
    "\n",
    "tsValues = read.getTimeSeriesResultValuesByResultId(1)  # Return type is a pandas dataframe\n",
    "\n",
    "# Print a few Time Series Values to the console\n",
    "try:\n",
    "    print tsValues.head()\n",
    "except Exception as e:\n",
    "    print e\n",
    "\n",
    "# Plot the time series\n",
    "\n",
    "try:\n",
    "    fig = plt.figure()\n",
    "    ax = fig.add_subplot(111)\n",
    "    tsValues.plot(x='ValueDateTime', y='DataValue', kind='line',\n",
    "                  title=tsResult.ResultObj.VariableObj.VariableNameCV + \" at \" + tsResult.ResultObj.FeatureActionObj.SamplingFeatureObj.SamplingFeatureName,\n",
    "                  ax=ax)\n",
    "    ax.set_ylabel(tsResult.ResultObj.VariableObj.VariableNameCV + \" (\" + tsResult.ResultObj.UnitsObj.UnitsAbbreviation + \")\")\n",
    "    ax.set_xlabel(\"Date/Time\")\n",
    "    ax.xaxis.set_minor_locator(dates.MonthLocator())\n",
    "    ax.xaxis.set_minor_formatter(dates.DateFormatter('%b'))\n",
    "    ax.xaxis.set_major_locator(dates.YearLocator())\n",
    "    ax.xaxis.set_major_formatter(dates.DateFormatter('\\n%Y'))\n",
    "    ax.grid(True)\n",
    "    plt.show()\n",
    "except Exception as e:\n",
    "    print \"Unable to demo plotting of tsValues: \", e\n",
    "\n"
   ]
  },
  {
   "cell_type": "code",
   "execution_count": null,
   "metadata": {
    "collapsed": true
   },
   "outputs": [],
   "source": []
  }
 ],
 "metadata": {
  "kernelspec": {
   "display_name": "Python 2",
   "language": "python",
   "name": "python2"
  },
  "language_info": {
   "codemirror_mode": {
    "name": "ipython",
    "version": 2
   },
   "file_extension": ".py",
   "mimetype": "text/x-python",
   "name": "python",
   "nbconvert_exporter": "python",
   "pygments_lexer": "ipython2",
   "version": "2.7.11"
  }
 },
 "nbformat": 4,
 "nbformat_minor": 0
}
